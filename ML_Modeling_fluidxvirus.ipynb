{
 "cells": [
  {
   "cell_type": "markdown",
   "id": "406f541b-3a93-485a-80b3-e09df3b8b062",
   "metadata": {},
   "source": [
    "## ML Modeling for Fluid x Virus"
   ]
  },
  {
   "cell_type": "code",
   "execution_count": null,
   "id": "4f5ec5d9-8953-4943-a90f-2450c2bc6a47",
   "metadata": {},
   "outputs": [],
   "source": [
    "import pandas as pd\n",
    "import numpy as np\n",
    "import matplotlib.pyplot as plt\n",
    "plt.rcParams['pdf.fonttype'] = 42\n",
    "plt.rcParams['ps.fonttype'] = 42\n",
    "import seaborn as sns\n",
    "sns.set_context(\"talk\")\n",
    "\n",
    "import os \n",
    "import glob\n",
    "import statsmodels.api as sm\n",
    "from pathlib import Path\n",
    "from scipy import stats\n",
    "import sklearn\n",
    "\n",
    "from sklearn.model_selection import StratifiedKFold\n",
    "from sklearn import metrics\n",
    "from sklearn.metrics import mean_squared_error\n",
    "from math import sqrt\n",
    "\n",
    "import keras\n",
    "from keras.models import Sequential\n",
    "from keras.layers import Dense\n",
    "\n",
    "from tensorflow.keras.utils import to_categorical"
   ]
  },
  {
   "cell_type": "code",
   "execution_count": null,
   "id": "320180c7-996b-48cb-91c8-85cd8a468763",
   "metadata": {},
   "outputs": [],
   "source": [
    "DID = pd.read_excel('Fig3M.xlsx')\n",
    "DID = DID.drop(columns=['Unnamed: 0','ID',\"Device\",\"Date\",\"ProbeSide\",\"Yoked\",\"BottleSide\",\"Weight\",\"Intake\"])\n",
    "DID[\"FluidxVirus\"] = DID['Fluid'] + DID['Virus']\n",
    "DID = DID.drop(columns = ['Fluid', \"Virus\"])\n",
    "df = DID.dropna()\n",
    "\n",
    "DID.head()"
   ]
  },
  {
   "cell_type": "code",
   "execution_count": null,
   "id": "b13c7f8e-8c05-4628-b541-53798a44ea99",
   "metadata": {},
   "outputs": [],
   "source": [
    "df['StimState'] = df['StimState'].astype('category')\n",
    "df['FluidxVirus'] = df['FluidxVirus'].astype('category')\n",
    "\n",
    "df['StimStateCodes'] = df['StimState'].cat.codes\n",
    "df['FluidxVirusCodes'] = df['FluidxVirus'].cat.codes\n",
    "\n",
    "df = df.drop(columns = ['StimState','FluidxVirus'])\n",
    "df.head()"
   ]
  },
  {
   "cell_type": "code",
   "execution_count": null,
   "id": "a381dc75-98de-4881-bd54-3269a03dd2e4",
   "metadata": {},
   "outputs": [],
   "source": [
    "target_column = ['FluidxVirusCodes'] \n",
    "predictors = list(set(list(df.columns))-set(target_column))\n",
    "#df[predictors] = df[predictors]/df[predictors].max()\n",
    "df.describe()"
   ]
  },
  {
   "cell_type": "code",
   "execution_count": null,
   "id": "803e486c-6802-44ae-b91c-c289de864312",
   "metadata": {},
   "outputs": [],
   "source": [
    "X = df[predictors].values\n",
    "y = df[target_column].values\n",
    "\n",
    "y = to_categorical(y)\n",
    "\n",
    "count_classes = y.shape[1]\n",
    "print(count_classes)\n",
    "\n",
    "kf = StratifiedKFold(6, shuffle=True, random_state=42)"
   ]
  },
  {
   "cell_type": "code",
   "execution_count": null,
   "id": "8b078a72-4d6b-4228-a7fb-dc2fdbeb1963",
   "metadata": {},
   "outputs": [],
   "source": [
    "X.shape"
   ]
  },
  {
   "cell_type": "code",
   "execution_count": null,
   "id": "d4a3e13f-87a8-4ad9-b9a3-7c128c9a36e8",
   "metadata": {},
   "outputs": [],
   "source": [
    "oos_y = []\n",
    "oos_pred = []\n",
    "fold = 0\n",
    "\n",
    "for train, test in kf.split(X,df[target_column]):\n",
    "    fold+=1\n",
    "    print(f\"Fold #{fold}\")\n",
    "    \n",
    "    X_train = X[train]\n",
    "    y_train = y[train]\n",
    "    X_test = X[test]\n",
    "    y_test = y[test]\n",
    "    \n",
    "    model = Sequential()\n",
    "    model.add(Dense(4096, activation='relu', input_dim=X.shape[1]))\n",
    "    model.add(Dense(1024, activation='relu'))\n",
    "    model.add(Dense(512, activation='relu'))\n",
    "    model.add(Dense(y.shape[1], activation='softmax'))\n",
    "    \n",
    "    model.compile(optimizer='adam', loss='categorical_crossentropy', metrics=['accuracy'])\n",
    "    \n",
    "    history = model.fit(X_train, y_train, epochs=50, validation_data=(X_test, y_test), verbose = 0)   \n",
    "    \n",
    "    pred = model.predict(X_test)\n",
    "    \n",
    "    oos_y.append(y_test)\n",
    "    pred = np.argmax(pred, axis=1)\n",
    "    oos_pred.append(pred)\n",
    "    \n",
    "    y_compare = np.argmax(y_test, axis = 1)\n",
    "    score = metrics.accuracy_score(y_compare, pred)\n",
    "    print(f\"Fold score (accuracy): {score}\")\n",
    "    \n",
    "oos_y = np.concatenate(oos_y)\n",
    "oos_pred = np.concatenate(oos_pred)\n",
    "oos_y_compare = np.argmax(oos_y, axis=1)\n",
    "\n",
    "score = metrics.accuracy_score(oos_y_compare, oos_pred)\n",
    "\n",
    "print(f\"-------------------------------\")\n",
    "print(f\"Final score (accuracy): {score}\")\n",
    "    \n",
    "\n",
    "oos_y = pd.DataFrame(oos_y)\n",
    "oos_pred = pd.DataFrame(oos_pred)\n",
    "oosDF = pd.concat([df, oos_y, oos_pred], axis =1)"
   ]
  },
  {
   "cell_type": "code",
   "execution_count": null,
   "id": "ffdb24a6-d543-4f65-b538-2a322b168789",
   "metadata": {},
   "outputs": [],
   "source": [
    "print(X_train.shape)\n",
    "print(y_train.shape)\n",
    "print(X_test.shape)\n",
    "print(y_test.shape)"
   ]
  },
  {
   "cell_type": "code",
   "execution_count": null,
   "id": "ae6b9d37-2e19-42ef-827d-05009e5c07d2",
   "metadata": {},
   "outputs": [],
   "source": [
    "# summarize history for accuracy\n",
    "f, ax = plt.subplots(figsize=(6,4))\n",
    "sns.despine()\n",
    "\n",
    "plt.plot(history.history['accuracy'])\n",
    "plt.plot(history.history['val_accuracy'])\n",
    "\n",
    "plt.ylabel('Accuracy')\n",
    "plt.xlabel('Epoch')\n",
    "\n",
    "plt.legend(['train', 'test'], loc='lower right', frameon=False)\n",
    "\n",
    "\n",
    "#plt.savefig('Accuracy.pdf', transparent = True, dpi = 1200)\n",
    "plt.show()\n",
    "plt.clf()"
   ]
  },
  {
   "cell_type": "code",
   "execution_count": null,
   "id": "0fe59092-f478-4b9a-9262-fa85a7fdce6b",
   "metadata": {},
   "outputs": [],
   "source": [
    "# summarize history for loss\n",
    "f, ax = plt.subplots(figsize=(6,4))\n",
    "sns.despine()\n",
    "\n",
    "plt.plot(history.history['loss'])\n",
    "plt.plot(history.history['val_loss'])\n",
    "\n",
    "plt.ylabel('Loss')\n",
    "plt.xlabel('Epoch')\n",
    "\n",
    "\n",
    "#plt.legend(['train', 'test'], loc='upper right', frameon=False)\n",
    "\n",
    "#plt.savefig('Loss.pdf', transparent = True, dpi = 1200)\n",
    "plt.show()\n",
    "plt.clf()"
   ]
  },
  {
   "cell_type": "code",
   "execution_count": null,
   "id": "55273c8a-a89e-46d8-a33c-ab1bf9e5b1a0",
   "metadata": {},
   "outputs": [],
   "source": [
    "pred_train= model.predict(X_train)\n",
    "scores = model.evaluate(X_train, y_train, verbose=0)\n",
    "print('Accuracy on training data: {}% \\n Error on training data: {}'.format(scores[1], 1 - scores[1]))   \n",
    "\n",
    "pred_test= model.predict(X_test)\n",
    "scores2 = model.evaluate(X_test, y_test, verbose=0)\n",
    "print('Accuracy on test data: {}% \\n Error on test data: {}'.format(scores2[1], 1 - scores2[1]))   "
   ]
  }
 ],
 "metadata": {
  "kernelspec": {
   "display_name": "Python 3 (ipykernel)",
   "language": "python",
   "name": "python3"
  },
  "language_info": {
   "codemirror_mode": {
    "name": "ipython",
    "version": 3
   },
   "file_extension": ".py",
   "mimetype": "text/x-python",
   "name": "python",
   "nbconvert_exporter": "python",
   "pygments_lexer": "ipython3",
   "version": "3.9.7"
  }
 },
 "nbformat": 4,
 "nbformat_minor": 5
}
